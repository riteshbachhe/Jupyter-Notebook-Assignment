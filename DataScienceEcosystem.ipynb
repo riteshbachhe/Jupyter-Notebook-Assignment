{
 "cells": [
  {
   "cell_type": "markdown",
   "id": "0757e758-8326-4375-ad6d-4c2a3a4858a8",
   "metadata": {},
   "source": [
    "# Data science Tools and Ecosystem"
   ]
  },
  {
   "cell_type": "markdown",
   "id": "35744444-10d2-4737-95b6-03677435b85b",
   "metadata": {},
   "source": [
    "In this notebook, Data Science Tools and Ecosystem are summarized."
   ]
  },
  {
   "cell_type": "markdown",
   "id": "ff3d3796-514b-48f8-8821-9747b781dc20",
   "metadata": {},
   "source": [
    "**objectives:**\n",
    "*List popular languages for Data Science\n",
    "*Below are a few examples of evaluating arithmetic expressions in python\n",
    "*Converting 200 minutes to hours by diving by 60"
   ]
  },
  {
   "cell_type": "markdown",
   "id": "57d2c9a7-3266-444f-9ce1-edc7b8671cf0",
   "metadata": {},
   "source": [
    "some of the popular languages that Data Scientists use are:\n",
    "1.Python\n",
    "2.SQL\n",
    "3.R\n",
    "4.Java\n",
    "5.Scala"
   ]
  },
  {
   "cell_type": "markdown",
   "id": "e5d9fea0-22ed-4a38-a8c0-7499a96aaf7c",
   "metadata": {},
   "source": [
    "some of the commonly used libraries used by Data scientists include:\n",
    "Pandas\n",
    "Matplotlib\n",
    "Keras"
   ]
  },
  {
   "cell_type": "markdown",
   "id": "24ee906e-fbc6-4460-8672-7216cf036dff",
   "metadata": {},
   "source": [
    "|Data Science Tools|\n",
    "|------------------|\n",
    "|Tableau|\n",
    "|Apache Spark|\n",
    "|Jupyter Notebook|\n",
    "|R|"
   ]
  },
  {
   "cell_type": "markdown",
   "id": "1fbda45a-de39-4e6d-a0db-4f25835793a0",
   "metadata": {},
   "source": [
    "### Below are a few examples of evaluating arithmetic expressions in python.\n",
    "1.x=2+3*4-5\n",
    "  result=x\n",
    "  print(result)\n",
    "\n",
    "y=7/8+2\n",
    "\n",
    "z=2-7"
   ]
  },
  {
   "cell_type": "code",
   "execution_count": 1,
   "id": "916eb1d9-36ce-4751-a12f-583590929917",
   "metadata": {},
   "outputs": [
    {
     "data": {
      "text/plain": [
       "17"
      ]
     },
     "execution_count": 1,
     "metadata": {},
     "output_type": "execute_result"
    }
   ],
   "source": [
    "# This is a simple arithmetic expression to multiply then add integers\n",
    "(3*4)+5"
   ]
  },
  {
   "cell_type": "code",
   "execution_count": 2,
   "id": "71be3ccd-1986-4c51-94bc-25dea16bd0ea",
   "metadata": {},
   "outputs": [],
   "source": [
    "# This will convert 200 minutes to hours by diving by 60\n",
    "minutes= 200%60\n",
    "hours=200//60"
   ]
  },
  {
   "cell_type": "code",
   "execution_count": 3,
   "id": "2a2f9b1e-6e73-411a-9758-53d7340f8d4f",
   "metadata": {},
   "outputs": [],
   "source": [
    "hours, minutes = divmod(200,60)"
   ]
  },
  {
   "cell_type": "markdown",
   "id": "632eb8af-dadd-44bd-895d-d315d68b8b7c",
   "metadata": {},
   "source": [
    "## Author\n",
    "Ritesh"
   ]
  },
  {
   "cell_type": "code",
   "execution_count": null,
   "id": "e26db200-b018-447e-aeda-7cfae1b5ea87",
   "metadata": {},
   "outputs": [],
   "source": []
  }
 ],
 "metadata": {
  "kernelspec": {
   "display_name": "Python 3 (ipykernel)",
   "language": "python",
   "name": "python3"
  },
  "language_info": {
   "codemirror_mode": {
    "name": "ipython",
    "version": 3
   },
   "file_extension": ".py",
   "mimetype": "text/x-python",
   "name": "python",
   "nbconvert_exporter": "python",
   "pygments_lexer": "ipython3",
   "version": "3.11.7"
  }
 },
 "nbformat": 4,
 "nbformat_minor": 5
}
